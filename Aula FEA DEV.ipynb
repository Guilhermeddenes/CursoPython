{
 "cells": [
  {
   "cell_type": "markdown",
   "id": "e10e42ad",
   "metadata": {},
   "source": [
    "## Notebook\n",
    "é o ambiente - code\n",
    " - Execução de Códigos\n",
    " - Documentação\n",
    " \n",
    " > É para nossas notas de aula"
   ]
  },
  {
   "cell_type": "code",
   "execution_count": 3,
   "id": "5cf3da94",
   "metadata": {},
   "outputs": [],
   "source": [
    "import random \n",
    "random.randint?"
   ]
  },
  {
   "cell_type": "code",
   "execution_count": null,
   "id": "d53c4d7e",
   "metadata": {},
   "outputs": [],
   "source": []
  }
 ],
 "metadata": {
  "kernelspec": {
   "display_name": "Python 3 (ipykernel)",
   "language": "python",
   "name": "python3"
  },
  "language_info": {
   "codemirror_mode": {
    "name": "ipython",
    "version": 3
   },
   "file_extension": ".py",
   "mimetype": "text/x-python",
   "name": "python",
   "nbconvert_exporter": "python",
   "pygments_lexer": "ipython3",
   "version": "3.10.9"
  }
 },
 "nbformat": 4,
 "nbformat_minor": 5
}
